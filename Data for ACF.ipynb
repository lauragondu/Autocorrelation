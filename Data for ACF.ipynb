{
 "cells": [
  {
   "cell_type": "markdown",
   "metadata": {},
   "source": [
    "# Creating a txt file with all the data needed for the ACF calculation"
   ]
  },
  {
   "cell_type": "markdown",
   "metadata": {},
   "source": [
    "This notebook generates a csv file with the voxels positions and displacements with the structure required for the "
   ]
  },
  {
   "cell_type": "code",
   "execution_count": 1,
   "metadata": {},
   "outputs": [
    {
     "name": "stdout",
     "output_type": "stream",
     "text": [
      "Python 3.8.5\n"
     ]
    }
   ],
   "source": [
    "!python --version"
   ]
  },
  {
   "cell_type": "code",
   "execution_count": 2,
   "metadata": {},
   "outputs": [
    {
     "name": "stdout",
     "output_type": "stream",
     "text": [
      "Package                            Version\n",
      "---------------------------------- -------------------\n",
      "absl-py                            1.0.0\n",
      "alabaster                          0.7.12\n",
      "anaconda-client                    1.7.2\n",
      "anaconda-navigator                 1.10.0\n",
      "anaconda-project                   0.8.3\n",
      "ansicolors                         1.1.8\n",
      "ansiwrap                           0.8.4\n",
      "aplus                              0.11.0\n",
      "appdirs                            1.4.4\n",
      "argh                               0.26.2\n",
      "argon2-cffi                        20.1.0\n",
      "arrow                              1.1.0\n",
      "asn1crypto                         1.4.0\n",
      "astroid                            2.4.2\n",
      "astropy                            4.0.2\n",
      "astunparse                         1.6.3\n",
      "async-generator                    1.10\n",
      "atomicwrites                       1.4.0\n",
      "attrs                              20.3.0\n",
      "autopep8                           1.5.4\n",
      "Babel                              2.8.1\n",
      "backcall                           0.2.0\n",
      "backports.functools-lru-cache      1.6.4\n",
      "backports.shutil-get-terminal-size 1.0.0\n",
      "backports.tempfile                 1.0\n",
      "backports.weakref                  1.0.post1\n",
      "bcrypt                             3.2.0\n",
      "beautifulsoup4                     4.9.3\n",
      "beautifultable                     1.0.1\n",
      "binaryornot                        0.4.4\n",
      "bitarray                           1.6.1\n",
      "bkcharts                           0.2\n",
      "black                              20.8b1\n",
      "blake3                             0.3.3\n",
      "bleach                             3.2.1\n",
      "bokeh                              2.2.3\n",
      "boto                               2.49.0\n",
      "boto3                              1.26.99\n",
      "botocore                           1.29.99\n",
      "Bottleneck                         1.3.2\n",
      "brotlipy                           0.7.0\n",
      "cachetools                         5.0.0\n",
      "canvasapi                          2.2.0\n",
      "canvasutils                        0.4.1\n",
      "certifi                            2020.6.20\n",
      "cffi                               1.14.3\n",
      "chainmap                           1.0.3\n",
      "chardet                            3.0.4\n",
      "click                              7.1.2\n",
      "cloudpickle                        1.6.0\n",
      "clyent                             1.2.2\n",
      "colorama                           0.4.4\n",
      "combomethod                        1.0.12\n",
      "comtypes                           1.1.7\n",
      "conda                              4.12.0\n",
      "conda-build                        3.20.5\n",
      "conda-package-handling             1.7.3\n",
      "conda-verify                       3.4.2\n",
      "contextlib2                        0.6.0.post1\n",
      "cookiecutter                       1.7.3\n",
      "cryptography                       3.1.1\n",
      "cycler                             0.10.0\n",
      "Cython                             0.29.21\n",
      "cytoolz                            0.11.0\n",
      "damask                             3.0.0a3.post2\n",
      "damask-parse                       0.2.10\n",
      "dask                               2.30.0\n",
      "decorator                          4.4.2\n",
      "DefDAP                             0.93.5\n",
      "defusedxml                         0.6.0\n",
      "diff-match-patch                   20200713\n",
      "dill                               0.3.3\n",
      "distributed                        2.30.1\n",
      "docopt                             0.6.2\n",
      "docutils                           0.16\n",
      "dropbox                            10.1.2\n",
      "enforce-typehints                  0.0.2\n",
      "entrypoints                        0.3\n",
      "et-xmlfile                         1.0.1\n",
      "fastcache                          1.1.0\n",
      "filelock                           3.0.12\n",
      "flake8                             3.8.4\n",
      "Flask                              1.1.2\n",
      "flatbuffers                        2.0\n",
      "formable                           0.1.15\n",
      "frozendict                         2.3.6\n",
      "fsspec                             0.8.3\n",
      "functions                          0.7.0\n",
      "future                             0.18.2\n",
      "gast                               0.5.3\n",
      "gevent                             20.9.0\n",
      "glob2                              0.7\n",
      "google-auth                        2.6.0\n",
      "google-auth-oauthlib               0.4.6\n",
      "google-pasta                       0.2.0\n",
      "greenlet                           1.1.0\n",
      "grpcio                             1.44.0\n",
      "h5cross                            0.2.2\n",
      "h5py                               2.10.0\n",
      "HeapDict                           1.0.1\n",
      "hickle                             4.0.4\n",
      "hpcflow                            0.1.16\n",
      "html5lib                           1.1\n",
      "idna                               2.10\n",
      "imageio                            2.9.0\n",
      "imagesize                          1.2.0\n",
      "importlib-metadata                 4.11.3\n",
      "iniconfig                          1.1.1\n",
      "intervaltree                       3.1.0\n",
      "intspan                            1.6.1\n",
      "ipycanvas                          0.8.2\n",
      "ipykernel                          5.3.4\n",
      "ipython                            7.19.0\n",
      "ipython_genutils                   0.2.0\n",
      "ipywidgets                         7.6.3\n",
      "isort                              5.6.4\n",
      "itsdangerous                       1.1.0\n",
      "jdcal                              1.4.1\n",
      "jedi                               0.17.1\n",
      "Jinja2                             2.11.2\n",
      "jinja2-time                        0.2.0\n",
      "jmespath                           1.0.1\n",
      "joblib                             0.17.0\n",
      "json5                              0.9.5\n",
      "jsonschema                         3.2.0\n",
      "jupyter                            1.0.0\n",
      "jupyter-cjk-xelatex                0.2\n",
      "jupyter-client                     6.1.7\n",
      "jupyter-console                    6.2.0\n",
      "jupyter-core                       4.6.3\n",
      "jupyterlab                         2.2.6\n",
      "jupyterlab-pygments                0.1.2\n",
      "jupyterlab-server                  1.2.0\n",
      "jupyterlab-widgets                 1.0.0\n",
      "keras                              2.8.0\n",
      "Keras-Preprocessing                1.1.2\n",
      "keyring                            21.4.0\n",
      "kiwisolver                         1.3.0\n",
      "lazy-object-proxy                  1.4.3\n",
      "libarchive-c                       2.9\n",
      "libclang                           13.0.0\n",
      "llvmlite                           0.34.0\n",
      "locket                             0.2.0\n",
      "lxml                               4.6.1\n",
      "Markdown                           3.3.6\n",
      "markdown-it-py                     2.2.0\n",
      "MarkupSafe                         1.1.1\n",
      "matflow                            0.2.24\n",
      "matflow-damask                     0.1.16\n",
      "matflow-defdap                     0.1.4\n",
      "matflow-demo-extension             0.1.2\n",
      "matflow-dream3d                    0.1.2\n",
      "matflow-formable                   0.1.8\n",
      "matflow-mtex                       0.1.7\n",
      "matplotlib                         3.3.2\n",
      "matplotlib-scalebar                0.7.2\n",
      "mccabe                             0.6.1\n",
      "mdurl                              0.1.2\n",
      "mementos                           1.3.1\n",
      "menuinst                           1.4.16\n",
      "meshio                             5.3.4\n",
      "mistune                            0.8.4\n",
      "mkl-fft                            1.2.0\n",
      "mkl-random                         1.1.1\n",
      "mkl-service                        2.3.0\n",
      "mock                               4.0.2\n",
      "more-itertools                     8.6.0\n",
      "mpmath                             1.1.0\n",
      "msgpack                            1.0.0\n",
      "msvc-runtime                       14.28.29910\n",
      "multipledispatch                   0.6.0\n",
      "mypy                               1.4.1\n",
      "mypy-extensions                    1.0.0\n",
      "navigator-updater                  0.2.1\n",
      "nbclient                           0.5.1\n",
      "nbconvert                          6.0.7\n",
      "nbformat                           5.0.8\n",
      "nest-asyncio                       1.4.2\n",
      "networkx                           2.5\n",
      "nltk                               3.5\n",
      "nose                               1.3.7\n",
      "notebook                           6.1.4\n",
      "nulltype                           2.3.1\n",
      "numba                              0.51.2\n",
      "numexpr                            2.7.1\n",
      "numpy                              1.22.3\n",
      "numpydoc                           1.1.0\n",
      "oauthlib                           3.2.0\n",
      "olefile                            0.46\n",
      "openpyxl                           3.0.5\n",
      "opt-einsum                         3.3.0\n",
      "options                            1.4.10\n",
      "orjson                             3.5.1\n",
      "packaging                          20.4\n",
      "pandas                             1.1.3\n",
      "pandocfilters                      1.4.3\n",
      "paramiko                           2.7.2\n",
      "parso                              0.7.0\n",
      "partd                              1.1.0\n",
      "path                               15.0.0\n",
      "pathlib2                           2.3.5\n",
      "pathspec                           0.8.1\n",
      "pathtools                          0.1.2\n",
      "patsy                              0.5.1\n",
      "PeakUtils                          1.3.4\n",
      "pep8                               1.7.1\n",
      "pexpect                            4.8.0\n",
      "pickleshare                        0.7.5\n",
      "Pillow                             8.0.1\n",
      "pip                                21.2.4\n",
      "pkginfo                            1.6.1\n",
      "plotly                             4.14.3\n",
      "pluggy                             0.13.1\n",
      "ply                                3.11\n",
      "poyo                               0.5.0\n",
      "progress                           1.6\n",
      "progressbar2                       4.2.0\n",
      "prometheus-client                  0.8.0\n",
      "prompt-toolkit                     3.0.8\n",
      "protobuf                           3.19.4\n",
      "psutil                             5.7.2\n",
      "py                                 1.9.0\n",
      "pyaml                              20.4.0\n",
      "pyarrow                            11.0.0\n",
      "pyasn1                             0.4.8\n",
      "pyasn1-modules                     0.2.8\n",
      "pycodestyle                        2.6.0\n",
      "pycosat                            0.6.3\n",
      "pycparser                          2.20\n",
      "pycurl                             7.43.0.6\n",
      "pydantic                           1.10.7\n",
      "pydocstyle                         5.1.1\n",
      "pyevtk                             1.6.0\n",
      "pyflakes                           2.2.0\n",
      "Pygments                           2.14.0\n",
      "pylint                             2.6.0\n",
      "PyNaCl                             1.4.0\n",
      "pyodbc                             4.0.0-unsupported\n",
      "pyOpenSSL                          19.1.0\n",
      "pyparsing                          2.4.7\n",
      "pyperclip                          1.8.2\n",
      "pyreadline                         2.1\n",
      "pyrsistent                         0.17.3\n",
      "PySocks                            1.7.1\n",
      "pytest                             0.0.0\n",
      "python-dateutil                    2.8.1\n",
      "python-jsonrpc-server              0.4.0\n",
      "python-language-server             0.35.1\n",
      "python-slugify                     5.0.2\n",
      "python-utils                       3.5.2\n",
      "pytz                               2020.1\n",
      "PyWavelets                         1.1.1\n",
      "pywin32                            227\n",
      "pywin32-ctypes                     0.2.0\n",
      "pywinpty                           0.5.7\n",
      "PyYAML                             5.3.1\n",
      "pyzmq                              19.0.2\n",
      "QDarkStyle                         2.8.1\n",
      "QtAwesome                          1.0.1\n",
      "qtconsole                          4.7.7\n",
      "QtPy                               1.9.0\n",
      "regex                              2020.10.15\n",
      "requests                           2.24.0\n",
      "requests-oauthlib                  1.3.1\n",
      "result                             0.9.0\n",
      "retrying                           1.3.3\n",
      "rich                               13.3.2\n",
      "rope                               0.18.0\n",
      "rsa                                4.8\n",
      "Rtree                              0.9.4\n",
      "ruamel.yaml                        0.16.12\n",
      "ruamel_yaml                        0.15.87\n",
      "ruamel.yaml.clib                   0.2.2\n",
      "s3fs                               0.2.2\n",
      "s3transfer                         0.6.0\n",
      "say                                1.6.6\n",
      "scikit-image                       0.18.1\n",
      "scikit-learn                       0.23.2\n",
      "scipy                              1.5.2\n",
      "seaborn                            0.11.0\n",
      "segyio                             1.9.11\n",
      "Send2Trash                         1.5.0\n",
      "setuptools                         50.3.1.post20201107\n",
      "simplegeneric                      0.8.1\n",
      "SimpleITK                          2.2.1\n",
      "simplere                           1.2.13\n",
      "singledispatch                     3.4.0.3\n",
      "sip                                4.19.13\n",
      "six                                1.12.0\n",
      "skan                               0.9\n",
      "snowballstemmer                    2.0.0\n",
      "sortedcollections                  1.2.1\n",
      "sortedcontainers                   2.2.2\n",
      "soupsieve                          2.0.1\n",
      "Sphinx                             3.2.1\n",
      "sphinxcontrib-applehelp            1.0.2\n",
      "sphinxcontrib-devhelp              1.0.2\n",
      "sphinxcontrib-htmlhelp             1.0.3\n",
      "sphinxcontrib-jsmath               1.0.1\n",
      "sphinxcontrib-qthelp               1.0.3\n",
      "sphinxcontrib-serializinghtml      1.1.4\n",
      "sphinxcontrib-websupport           1.2.4\n",
      "spyder                             4.1.5\n",
      "spyder-kernels                     1.9.4\n",
      "SQLAlchemy                         1.4.17\n",
      "statsmodels                        0.12.0\n",
      "stone                              3.2.1\n",
      "sympy                              1.6.2\n",
      "tables                             3.6.1\n",
      "tabulate                           0.9.0\n",
      "tblib                              1.7.0\n",
      "tensorboard                        2.8.0\n",
      "tensorboard-data-server            0.6.1\n",
      "tensorboard-plugin-wit             1.8.1\n",
      "tensorflow                         2.8.0\n",
      "tensorflow-io-gcs-filesystem       0.24.0\n",
      "termcolor                          1.1.0\n",
      "terminado                          0.9.1\n",
      "testpath                           0.4.4\n",
      "text-unidecode                     1.3\n",
      "textdata                           2.4.1\n",
      "textwrap3                          0.9.2\n",
      "tf-estimator-nightly               2.8.0.dev2021122109\n",
      "threadpoolctl                      2.1.0\n",
      "tifffile                           2020.10.1\n",
      "toml                               0.10.1\n",
      "tomli                              2.0.1\n",
      "toolz                              0.11.1\n",
      "torch                              1.11.0\n",
      "torchaudio                         0.11.0\n",
      "torchvision                        0.12.0\n",
      "tornado                            6.0.4\n",
      "tqdm                               4.50.2\n",
      "traitlets                          5.0.5\n",
      "typed-ast                          1.4.2\n",
      "typing                             3.7.4.3\n",
      "typing_extensions                  4.5.0\n",
      "ujson                              4.0.1\n",
      "unicodecsv                         0.14.1\n",
      "urllib3                            1.25.11\n",
      "util2                              0.0.0.4\n",
      "vaex-core                          4.16.1\n",
      "vaex-hdf5                          0.14.1\n",
      "vecmaths                           0.1.6\n",
      "vtk                                9.0.0\n",
      "vtrtool                            0.8.8\n",
      "watchdog                           0.10.3\n",
      "wcwidth                            0.2.5\n",
      "webencodings                       0.5.1\n",
      "Werkzeug                           1.0.1\n",
      "wheel                              0.35.1\n",
      "widgetsnbextension                 3.5.1\n",
      "win-inet-pton                      1.1.0\n",
      "win-unicode-console                0.5\n",
      "wincertstore                       0.2\n",
      "wrapt                              1.11.2\n",
      "XDMFWrite-h5py                     0.2.0\n",
      "xlrd                               1.2.0\n",
      "XlsxWriter                         1.3.7\n",
      "xlwings                            0.20.8\n",
      "xlwt                               1.3.0\n",
      "xmltodict                          0.12.0\n",
      "yapf                               0.30.0\n",
      "zict                               2.0.0\n",
      "zipp                               3.4.0\n",
      "zope.event                         4.5.0\n",
      "zope.interface                     5.1.2\n",
      "Note: you may need to restart the kernel to use updated packages.\n"
     ]
    },
    {
     "name": "stderr",
     "output_type": "stream",
     "text": [
      "WARNING: You are using pip version 21.2.4; however, version 24.0 is available.\n",
      "You should consider upgrading via the 'C:\\Users\\Laura\\anaconda3\\python.exe -m pip install --upgrade pip' command.\n"
     ]
    }
   ],
   "source": [
    "pip list"
   ]
  },
  {
   "cell_type": "code",
   "execution_count": 3,
   "metadata": {},
   "outputs": [],
   "source": [
    "from matflow.api import load_workflow\n",
    "import numpy as np\n",
    "import pandas as pd\n",
    "import matplotlib\n",
    "import matplotlib.pyplot as plt\n",
    "import math\n",
    "import plotly.graph_objects as go\n",
    "from scipy.signal import medfilt, find_peaks_cwt\n",
    "from skimage.transform import radon, rescale, resize,frt2\n",
    "from matflow.config import Config"
   ]
  },
  {
   "cell_type": "code",
   "execution_count": 4,
   "metadata": {},
   "outputs": [
    {
     "name": "stdout",
     "output_type": "stream",
     "text": [
      "Loading matflow config from C:\\Users\\Laura\\.matflow\\config.yml\n",
      "Loading task schemas from 1 file(s)...OK!\n",
      "Loading software definitions from 1 file(s)...OK!\n"
     ]
    }
   ],
   "source": [
    "from matflow.models.workflow import Workflow\n",
    "#path = \"C:/Users/GlassDesktop/Dropbox (The University of Manchester)/4th year - Crystal Plasticity and Microstructure Modelling for Rolled Aluminium Sheet/Modelling/Results/surface/BA\"\n",
    "path = \"C:/Users/Laura/Dropbox (The University of Manchester)/4th year - Crystal Plasticity and Microstructure Modelling for Rolled Aluminium Sheet/Modelling/Results/surface/BA\"\n",
    "workflow = load_workflow(path) #read the workflow "
   ]
  },
  {
   "cell_type": "code",
   "execution_count": 5,
   "metadata": {},
   "outputs": [],
   "source": [
    "def load_workflow(Path):\n",
    "    Config.set_config()\n",
    "    workflow = Workflow.load_HDF5_file(path)\n",
    "\n",
    "    return workflow"
   ]
  },
  {
   "cell_type": "code",
   "execution_count": 6,
   "metadata": {},
   "outputs": [],
   "source": [
    "strain_RD=workflow.tasks[4].elements[0].outputs.volume_element_response['field_data']['epsilon_V^1(F)_vM']['data'][-1]\n",
    "#strain_TD=workflow.tasks[5].elements[1].outputs.volume_element_response['field_data']['epsilon_V^0(F)_vM']['data'][-1]"
   ]
  },
  {
   "cell_type": "code",
   "execution_count": 7,
   "metadata": {},
   "outputs": [
    {
     "data": {
      "text/plain": [
       "(400, 250, 50)"
      ]
     },
     "execution_count": 7,
     "metadata": {},
     "output_type": "execute_result"
    }
   ],
   "source": [
    "np.shape(strain_RD)"
   ]
  },
  {
   "cell_type": "markdown",
   "metadata": {},
   "source": [
    "# X and Y Displacement"
   ]
  },
  {
   "cell_type": "code",
   "execution_count": 8,
   "metadata": {},
   "outputs": [
    {
     "data": {
      "text/plain": [
       "Index(['ux', 'uy', 'uz'], dtype='object')"
      ]
     },
     "execution_count": 8,
     "metadata": {},
     "output_type": "execute_result"
    }
   ],
   "source": [
    "# We get a csv file with the displacement from Paraview\n",
    "\n",
    "data= pd.read_csv(\"displacement.csv\")\n",
    "data.columns"
   ]
  },
  {
   "cell_type": "code",
   "execution_count": 9,
   "metadata": {},
   "outputs": [
    {
     "data": {
      "text/plain": [
       "Index(['ux', 'uy', 'uz'], dtype='object')"
      ]
     },
     "execution_count": 9,
     "metadata": {},
     "output_type": "execute_result"
    }
   ],
   "source": [
    "renamed_data=data.rename(columns={'u:0':'ux', 'u:1':'uy', 'u:2':'uz'})\n",
    "renamed_data.to_csv(\"displacement.csv\", index=None)\n",
    "renamed_data.columns"
   ]
  },
  {
   "cell_type": "code",
   "execution_count": 10,
   "metadata": {},
   "outputs": [],
   "source": [
    "xd=renamed_data.ux/100\n",
    "yd=renamed_data.uy/100\n",
    "zd=renamed_data.uz/100"
   ]
  },
  {
   "cell_type": "code",
   "execution_count": 11,
   "metadata": {},
   "outputs": [
    {
     "data": {
      "text/plain": [
       "0          0.011664\n",
       "1          0.012219\n",
       "2          0.012783\n",
       "3          0.013281\n",
       "4          0.013811\n",
       "             ...   \n",
       "4362043    0.280240\n",
       "4362044    0.281080\n",
       "4362045    0.281930\n",
       "4362046    0.282780\n",
       "4362047    0.283630\n",
       "Name: ux, Length: 4362048, dtype: float64"
      ]
     },
     "execution_count": 11,
     "metadata": {},
     "output_type": "execute_result"
    }
   ],
   "source": [
    "xd"
   ]
  },
  {
   "cell_type": "markdown",
   "metadata": {},
   "source": [
    "# X and Y pixels"
   ]
  },
  {
   "cell_type": "code",
   "execution_count": 12,
   "metadata": {},
   "outputs": [
    {
     "name": "stdout",
     "output_type": "stream",
     "text": [
      "Pixels along x: 401 Pixels along y: 251 \n",
      "Pixels per slice should be: 100651\n",
      "And it is actually: 100651\n",
      "The total number of displacement values are: 4362048\n",
      "So the total number of layers is:  50\n",
      "40  material layers + 10 buffer layers\n"
     ]
    }
   ],
   "source": [
    "buffLayers = 10\n",
    "\n",
    "xc=list(range(len(strain_RD)+1)) \n",
    "yc=list(range(len(strain_RD[1])+1))\n",
    "xc_layer=(xc*len(yc))\n",
    "print('Pixels along x:', len(xc), 'Pixels along y:', len(yc),'\\nPixels per slice should be:', len(xc_layer))#size of map along x and y\n",
    "\n",
    "yc_layer=[]\n",
    "#yc = [0]*len(xc)\n",
    "for i in range(len(yc)):\n",
    "    y=[i]*len(xc)\n",
    "    yc_layer=yc_layer+y\n",
    "\n",
    "layer_pix=len(yc_layer)\n",
    "print('And it is actually:', layer_pix)\n",
    "\n",
    "total_values=len(xd)\n",
    "print('The total number of displacement values are:', total_values)\n",
    "\n",
    "total_vox = len(strain_RD)*len(strain_RD[1])*len(strain_RD[1][1])\n",
    "num_layers=total_vox/layer_pix  #number of voxels in the whole volume / number of voxels per slice = number of slices\n",
    "print('So the total number of layers is: ', int(np.round(num_layers))) # \n",
    "print(int(np.round(num_layers-buffLayers)), ' material layers +', buffLayers, 'buffer layers')"
   ]
  },
  {
   "cell_type": "markdown",
   "metadata": {},
   "source": [
    "# Select the voxels at the top layer"
   ]
  },
  {
   "cell_type": "code",
   "execution_count": 13,
   "metadata": {},
   "outputs": [
    {
     "name": "stdout",
     "output_type": "stream",
     "text": [
      "Starting point of the layer selected:  0 \n",
      "Ending point of the layer selected:  100651\n"
     ]
    }
   ],
   "source": [
    "#Starting point of the layer selected \n",
    "starting_point=0\n",
    "#Ending point of the layer selected \n",
    "ending_point=layer_pix\n",
    "xdispl_layer=xd[starting_point:ending_point]\n",
    "ydispl_layer=yd[starting_point:ending_point]\n",
    "print('Starting point of the layer selected: ', starting_point, '\\nEnding point of the layer selected: ', ending_point)"
   ]
  },
  {
   "cell_type": "markdown",
   "metadata": {},
   "source": [
    "# Table with data pixels along x and y, and displacement along x and y"
   ]
  },
  {
   "cell_type": "code",
   "execution_count": 14,
   "metadata": {},
   "outputs": [
    {
     "name": "stdout",
     "output_type": "stream",
     "text": [
      "Have all the data got the same length? 100651 100651 100651 100651\n",
      "If the data are compatible, we can use them from a csv file called displacement_simulation\n",
      "We need to crate a txt file with these data\n"
     ]
    }
   ],
   "source": [
    "print('Have all the data got the same length?',len(xc_layer), len(yc_layer), len(xdispl_layer), len(ydispl_layer))\n",
    "print('If the data are compatible, we can use them from a csv file called displacement_simulation')\n",
    "print('We need to crate a txt file with these data')"
   ]
  },
  {
   "cell_type": "code",
   "execution_count": 15,
   "metadata": {},
   "outputs": [],
   "source": [
    "dict1 = {'xc': xc_layer, 'yc': yc_layer, 'xd': xdispl_layer, 'yd': ydispl_layer}   \n",
    "df1 = pd.DataFrame(dict1) "
   ]
  },
  {
   "cell_type": "code",
   "execution_count": 16,
   "metadata": {},
   "outputs": [
    {
     "data": {
      "text/html": [
       "<div>\n",
       "<style scoped>\n",
       "    .dataframe tbody tr th:only-of-type {\n",
       "        vertical-align: middle;\n",
       "    }\n",
       "\n",
       "    .dataframe tbody tr th {\n",
       "        vertical-align: top;\n",
       "    }\n",
       "\n",
       "    .dataframe thead th {\n",
       "        text-align: right;\n",
       "    }\n",
       "</style>\n",
       "<table border=\"1\" class=\"dataframe\">\n",
       "  <thead>\n",
       "    <tr style=\"text-align: right;\">\n",
       "      <th></th>\n",
       "      <th>xc</th>\n",
       "      <th>yc</th>\n",
       "      <th>xd</th>\n",
       "      <th>yd</th>\n",
       "    </tr>\n",
       "  </thead>\n",
       "  <tbody>\n",
       "    <tr>\n",
       "      <th>0</th>\n",
       "      <td>0</td>\n",
       "      <td>0</td>\n",
       "      <td>0.011664</td>\n",
       "      <td>-0.011314</td>\n",
       "    </tr>\n",
       "    <tr>\n",
       "      <th>1</th>\n",
       "      <td>1</td>\n",
       "      <td>0</td>\n",
       "      <td>0.012219</td>\n",
       "      <td>-0.010657</td>\n",
       "    </tr>\n",
       "    <tr>\n",
       "      <th>2</th>\n",
       "      <td>2</td>\n",
       "      <td>0</td>\n",
       "      <td>0.012783</td>\n",
       "      <td>-0.010178</td>\n",
       "    </tr>\n",
       "    <tr>\n",
       "      <th>3</th>\n",
       "      <td>3</td>\n",
       "      <td>0</td>\n",
       "      <td>0.013281</td>\n",
       "      <td>-0.009763</td>\n",
       "    </tr>\n",
       "    <tr>\n",
       "      <th>4</th>\n",
       "      <td>4</td>\n",
       "      <td>0</td>\n",
       "      <td>0.013811</td>\n",
       "      <td>-0.009328</td>\n",
       "    </tr>\n",
       "    <tr>\n",
       "      <th>...</th>\n",
       "      <td>...</td>\n",
       "      <td>...</td>\n",
       "      <td>...</td>\n",
       "      <td>...</td>\n",
       "    </tr>\n",
       "    <tr>\n",
       "      <th>100646</th>\n",
       "      <td>396</td>\n",
       "      <td>250</td>\n",
       "      <td>0.314880</td>\n",
       "      <td>-0.012468</td>\n",
       "    </tr>\n",
       "    <tr>\n",
       "      <th>100647</th>\n",
       "      <td>397</td>\n",
       "      <td>250</td>\n",
       "      <td>0.314900</td>\n",
       "      <td>-0.012429</td>\n",
       "    </tr>\n",
       "    <tr>\n",
       "      <th>100648</th>\n",
       "      <td>398</td>\n",
       "      <td>250</td>\n",
       "      <td>0.314970</td>\n",
       "      <td>-0.012276</td>\n",
       "    </tr>\n",
       "    <tr>\n",
       "      <th>100649</th>\n",
       "      <td>399</td>\n",
       "      <td>250</td>\n",
       "      <td>0.315170</td>\n",
       "      <td>-0.011964</td>\n",
       "    </tr>\n",
       "    <tr>\n",
       "      <th>100650</th>\n",
       "      <td>400</td>\n",
       "      <td>250</td>\n",
       "      <td>0.315540</td>\n",
       "      <td>-0.011314</td>\n",
       "    </tr>\n",
       "  </tbody>\n",
       "</table>\n",
       "<p>100651 rows × 4 columns</p>\n",
       "</div>"
      ],
      "text/plain": [
       "         xc   yc        xd        yd\n",
       "0         0    0  0.011664 -0.011314\n",
       "1         1    0  0.012219 -0.010657\n",
       "2         2    0  0.012783 -0.010178\n",
       "3         3    0  0.013281 -0.009763\n",
       "4         4    0  0.013811 -0.009328\n",
       "...     ...  ...       ...       ...\n",
       "100646  396  250  0.314880 -0.012468\n",
       "100647  397  250  0.314900 -0.012429\n",
       "100648  398  250  0.314970 -0.012276\n",
       "100649  399  250  0.315170 -0.011964\n",
       "100650  400  250  0.315540 -0.011314\n",
       "\n",
       "[100651 rows x 4 columns]"
      ]
     },
     "execution_count": 16,
     "metadata": {},
     "output_type": "execute_result"
    }
   ],
   "source": [
    "df1"
   ]
  },
  {
   "cell_type": "code",
   "execution_count": 17,
   "metadata": {},
   "outputs": [],
   "source": [
    "new_data = df1.to_string(index=False)\n",
    "newrows = new_data.split('\\n')"
   ]
  },
  {
   "cell_type": "code",
   "execution_count": 19,
   "metadata": {},
   "outputs": [],
   "source": [
    "# Write the data into a new txt file with the desired structure (make a copy from the previous data manually and name it \"data_for_ACF\")\n",
    "with open('data_for_ACF.txt', 'w') as file:\n",
    "    file.write('\\n'.join(newrows))"
   ]
  },
  {
   "cell_type": "code",
   "execution_count": 20,
   "metadata": {},
   "outputs": [
    {
     "name": "stdout",
     "output_type": "stream",
     "text": [
      "Note: you may need to restart the kernel to use updated packages.\n"
     ]
    }
   ],
   "source": [
    "pip freeze > requirements.txt"
   ]
  }
 ],
 "metadata": {
  "kernelspec": {
   "display_name": "Python 3",
   "language": "python",
   "name": "python3"
  },
  "language_info": {
   "codemirror_mode": {
    "name": "ipython",
    "version": 3
   },
   "file_extension": ".py",
   "mimetype": "text/x-python",
   "name": "python",
   "nbconvert_exporter": "python",
   "pygments_lexer": "ipython3",
   "version": "3.8.5"
  }
 },
 "nbformat": 4,
 "nbformat_minor": 4
}
